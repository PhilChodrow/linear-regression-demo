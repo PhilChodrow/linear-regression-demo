{
 "cells": [
  {
   "cell_type": "markdown",
   "metadata": {},
   "source": [
    "# LAB 1: Linear Regression By Hand\n",
    "\n",
    "## Note\n",
    "\n",
    "*This activity is intended as a lab-type activity for students to reinforce content from the teaching demonstration lecture. It could take place during a scheduled lab period, or during a scheduled lecture period under a flipped format. It is intended that most students can complete most of the assignment in a 75 minute period.* \n",
    "\n",
    "## Learning Goals for Today\n",
    "\n",
    "You will: \n",
    "\n",
    "- Implement a Python class for 1D linear regression. \n",
    "- Build familiarity with common API elements of the Python machine learning ecosystem, including methods like `model.fit` and `model.predict`. \n",
    "- Use elements of this API to fit and evaluate a model on a simple data set. \n",
    "\n",
    "\n",
    "## Instructions\n",
    "\n",
    "*Before Lab* \n",
    "\n",
    "1. Clone [this repository](https://github.com/PhilChodrow/linear-regression-demo).  \n",
    "2. Open `lab-1.ipynb` and `lab1/LinearRegression.py` in JupyterLab or your IDE of choice.  \n",
    "3. Identify your pairs (Phase 1) and 3-person groups (Phase 2). \n",
    "\n",
    "*In Lab: Phase 1*\n",
    "\n",
    "1. Find your pairs for this week from the spreadsheet posted online. \n",
    "2. Work on Phase 1 in `lab1/LinearRegression.py` as a pair for 20 minutes, swapping Driver and Navigator roles every 5 minutes or 2 lines of code. \n",
    "\n",
    "*In Lab: Phase 2*\n",
    "\n",
    "1. Find your 3-person groups for this week. \n",
    "2. Work on Phase 2 as a 3-person group for 30 minutes, \n",
    "3. Once you have a solution in which you can no longer identify errors just be reading the code, try running the cells in this notebook and studying the output. \n",
    "4. If you encounter errors or unexpected behavior, you may need to do some troubleshooting in `lab1/LinearRegression.py`. You can then restart the kernel of this notebook and run the cells again. "
   ]
  },
  {
   "cell_type": "code",
   "execution_count": 1,
   "metadata": {},
   "outputs": [],
   "source": [
    "from lab1.LinearRegressionSol import LinearRegression1D # replace with lab1.LinearRegression for students\n",
    "\n",
    "import pandas as pd\n",
    "import numpy as np\n",
    "from matplotlib import pyplot as plt\n",
    "from sklearn.model_selection import train_test_split\n",
    "\n",
    "np.random.seed(1234)"
   ]
  },
  {
   "cell_type": "markdown",
   "metadata": {},
   "source": [
    "## Data Acquisition and Preparation\n",
    "\n",
    "Our data for this activity comes from the Palmer Penguins data set. This data set contains a range of physiological measurements of three distinct species of penguin. \n",
    "\n",
    "The Palmer Penguins data set was collected by collected by [Dr. Kristen Gorman](https://www.uaf.edu/cfos/people/faculty/detail/kristen-gorman.php) and the [Palmer Station, Antarctica LTER](https://pal.lternet.edu/), a member of the [Long Term Ecological Research Network](https://lternet.edu/). \n",
    "\n",
    "We'll focus today on modeling the relationship between culmen length and culmen depth in Gentoo penguins. "
   ]
  },
  {
   "cell_type": "code",
   "execution_count": 2,
   "metadata": {},
   "outputs": [],
   "source": [
    "url = \"https://philchodrow.github.io/PIC16A/datasets/palmer_penguins.csv\"\n",
    "penguins = pd.read_csv(url)\n",
    "gentoos = penguins[penguins[\"Species\"].str.contains(\"Gentoo\")]\n",
    "\n",
    "x = gentoos[\"Culmen Length (mm)\"]\n",
    "y = gentoos[\"Culmen Depth (mm)\"]\n",
    "\n",
    "# we split the data into subsets for fitting the model and \n",
    "# evaluating or \"testing\" the model. More on this next week! \n",
    "x_train, x_test, y_train, y_test = train_test_split(x, y, test_size = 0.2)"
   ]
  },
  {
   "cell_type": "markdown",
   "metadata": {},
   "source": [
    "The *culmen* is the ridge along the bill of the penguin. \n",
    "\n",
    "<image src=\"https://pbs.twimg.com/media/EaAXQn8U4AAoKUj?format=jpg&name=4096x4096\" width=200 alt=\"Cartoon illustration of the length and depth of a penguin's culmen. The depth reflects corresponds the maximum vertical depth of the culmen.\">\n",
    "\n",
    "Here's how our data looks: "
   ]
  },
  {
   "cell_type": "code",
   "execution_count": 18,
   "metadata": {},
   "outputs": [
    {
     "data": {
      "image/png": "[encoded data removed]",
      "text/plain": [
       "<Figure size 432x288 with 1 Axes>"
      ]
     },
     "metadata": {
      "needs_background": "light"
     },
     "output_type": "display_data"
    }
   ],
   "source": [
    "def show_data(x,y):\n",
    "    plt.scatter(x, y)\n",
    "    plt.xlabel(\"Culmen Length (mm\")\n",
    "    plt.ylabel(\"Culmen Depth (mm\")\n",
    "\n",
    "show_data(x_train, y_train)"
   ]
  },
  {
   "cell_type": "markdown",
   "metadata": {},
   "source": [
    "## Model Initialization\n",
    "\n",
    "There does appear to be a relationship between the culmen length and depth: penguins with longer culmens also tend to have deeper ones as well. We'll try to model this relationship using linear regression. "
   ]
  },
  {
   "cell_type": "code",
   "execution_count": 8,
   "metadata": {},
   "outputs": [],
   "source": [
    "LR = LinearRegression1D(learning_rate = 0.0002, max_iter = 1000, tol = 0.1)"
   ]
  },
  {
   "cell_type": "markdown",
   "metadata": {},
   "source": [
    "The above line *creates* a model but doesn't *fit* or *train* the model. As a result, our current model is, to use the technical term, very bad. "
   ]
  },
  {
   "cell_type": "code",
   "execution_count": 9,
   "metadata": {},
   "outputs": [
    {
     "data": {
      "image/png": "[encoded data removed]",
      "text/plain": [
       "<Figure size 432x288 with 1 Axes>"
      ]
     },
     "metadata": {
      "needs_background": "light"
     },
     "output_type": "display_data"
    }
   ],
   "source": [
    "def show_model(x, model):\n",
    "    x_grid = np.linspace(x.min(), x.max(), 1001)\n",
    "    y_grid = model.predict(x_grid)\n",
    "    plt.plot(x_grid, y_grid, color = \"black\")\n",
    "\n",
    "show_data(x_train, y_train)\n",
    "show_model(x_train, LR)"
   ]
  },
  {
   "cell_type": "markdown",
   "metadata": {},
   "source": [
    "The poor model fit is expressed in part by the very high mean-square error (MSE):"
   ]
  },
  {
   "cell_type": "code",
   "execution_count": 10,
   "metadata": {},
   "outputs": [
    {
     "data": {
      "text/plain": [
       "524.6498917520474"
      ]
     },
     "execution_count": 10,
     "metadata": {},
     "output_type": "execute_result"
    }
   ],
   "source": [
    "LR.mse(x_train, y_train)"
   ]
  },
  {
   "cell_type": "markdown",
   "metadata": {},
   "source": [
    "## Model Fitting\n",
    "\n",
    "Let's now go ahead and fit our model to the training data: "
   ]
  },
  {
   "cell_type": "code",
   "execution_count": 11,
   "metadata": {},
   "outputs": [],
   "source": [
    "LR.fit(x_train, y_train)"
   ]
  },
  {
   "cell_type": "markdown",
   "metadata": {},
   "source": [
    "The MSE should now be much lower! "
   ]
  },
  {
   "cell_type": "code",
   "execution_count": 13,
   "metadata": {},
   "outputs": [
    {
     "data": {
      "text/plain": [
       "0.6980581511539103"
      ]
     },
     "execution_count": 13,
     "metadata": {},
     "output_type": "execute_result"
    }
   ],
   "source": [
    "LR.mse(x_train, y_train)"
   ]
  },
  {
   "cell_type": "markdown",
   "metadata": {},
   "source": [
    "Similarly, we should now expect a better visual fit with the data: "
   ]
  },
  {
   "cell_type": "code",
   "execution_count": 14,
   "metadata": {},
   "outputs": [
    {
     "data": {
      "image/png": "[encoded data removed]",
      "text/plain": [
       "<Figure size 432x288 with 1 Axes>"
      ]
     },
     "metadata": {
      "needs_background": "light"
     },
     "output_type": "display_data"
    }
   ],
   "source": [
    "show_data(x_train, y_train)\n",
    "show_model(x_train, LR)"
   ]
  },
  {
   "cell_type": "markdown",
   "metadata": {},
   "source": [
    "## Making Predictions\n",
    "\n",
    "In machine learning we often care about making *predictions* on unseen data. It's not necessarily very impressive to see a reasonable fit on the training data -- we already saw that during the fitting step! Can we make reasonable predictions on unseen data? "
   ]
  },
  {
   "cell_type": "code",
   "execution_count": 16,
   "metadata": {},
   "outputs": [
    {
     "data": {
      "text/plain": [
       "array([14.77471975])"
      ]
     },
     "execution_count": 16,
     "metadata": {},
     "output_type": "execute_result"
    }
   ],
   "source": [
    "# model prediction of culmen depth (mm) for a hypothetical penguin \n",
    "# with culmen 47 mm long\n",
    "LR.predict(np.array([47]))"
   ]
  },
  {
   "cell_type": "markdown",
   "metadata": {},
   "source": [
    "In many settings, we would hope that our model's MSE on the test data would be no larger (or at least not much larger) than the MSE on training data. This is related to the topic of *overfitting*, which we'll be discussing soon. "
   ]
  },
  {
   "cell_type": "code",
   "execution_count": 17,
   "metadata": {},
   "outputs": [
    {
     "data": {
      "text/plain": [
       "0.4745579917965959"
      ]
     },
     "execution_count": 17,
     "metadata": {},
     "output_type": "execute_result"
    }
   ],
   "source": [
    "LR.mse(x_test, y_test)"
   ]
  },
  {
   "cell_type": "markdown",
   "metadata": {},
   "source": [
    "Does it look like the test data approximately follows the trend our model learned from the training data? "
   ]
  },
  {
   "cell_type": "code",
   "execution_count": 21,
   "metadata": {},
   "outputs": [
    {
     "data": {
      "image/png": "[encoded data removed]",
      "text/plain": [
       "<Figure size 432x288 with 1 Axes>"
      ]
     },
     "metadata": {
      "needs_background": "light"
     },
     "output_type": "display_data"
    }
   ],
   "source": [
    "show_data(x_test, y_test)\n",
    "show_model(x_test, LR)"
   ]
  }
 ],
 "metadata": {
  "interpreter": {
   "hash": "16ec213544bede06b9fcc1497bb47434ffde4bd8249888698f9a807198aed71d"
  },
  "kernelspec": {
   "display_name": "Python 3.8.8 ('base')",
   "language": "python",
   "name": "python3"
  },
  "language_info": {
   "codemirror_mode": {
    "name": "ipython",
    "version": 3
   },
   "file_extension": ".py",
   "mimetype": "text/x-python",
   "name": "python",
   "nbconvert_exporter": "python",
   "pygments_lexer": "ipython3",
   "version": "3.8.8"
  },
  "orig_nbformat": 4
 },
 "nbformat": 4,
 "nbformat_minor": 2
}
